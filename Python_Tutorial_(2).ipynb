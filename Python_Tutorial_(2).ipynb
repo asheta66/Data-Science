{
  "nbformat": 4,
  "nbformat_minor": 0,
  "metadata": {
    "colab": {
      "provenance": [],
      "authorship_tag": "ABX9TyOPNh0YMH8DbL+rGPkKYuZY",
      "include_colab_link": true
    },
    "kernelspec": {
      "name": "python3",
      "display_name": "Python 3"
    },
    "language_info": {
      "name": "python"
    }
  },
  "cells": [
    {
      "cell_type": "markdown",
      "metadata": {
        "id": "view-in-github",
        "colab_type": "text"
      },
      "source": [
        "<a href=\"https://colab.research.google.com/github/asheta66/Data-Science/blob/main/Python_Tutorial_(2).ipynb\" target=\"_parent\"><img src=\"https://colab.research.google.com/assets/colab-badge.svg\" alt=\"Open In Colab\"/></a>"
      ]
    },
    {
      "cell_type": "code",
      "execution_count": null,
      "metadata": {
        "colab": {
          "base_uri": "https://localhost:8080/"
        },
        "id": "cZcV4x8onrPy",
        "outputId": "a8b155da-55ba-4332-a0ef-220293907d22"
      },
      "outputs": [
        {
          "output_type": "stream",
          "name": "stdout",
          "text": [
            "hello Alaa\n"
          ]
        }
      ],
      "source": [
        "print(\"hello Alaa\")"
      ]
    },
    {
      "cell_type": "code",
      "source": [
        "my_name=\"Alaa\"\n",
        "print(\"Hello \" + my_name)"
      ],
      "metadata": {
        "colab": {
          "base_uri": "https://localhost:8080/"
        },
        "id": "WhyF_Mzan6al",
        "outputId": "71abd167-9a28-4445-bf94-a2720b606145"
      },
      "execution_count": null,
      "outputs": [
        {
          "output_type": "stream",
          "name": "stdout",
          "text": [
            "Hello Alaa\n"
          ]
        }
      ]
    },
    {
      "cell_type": "code",
      "source": [
        "age=55\n",
        "print(my_name +\" is my name and I am \" + str(age) +\" years old\")"
      ],
      "metadata": {
        "colab": {
          "base_uri": "https://localhost:8080/"
        },
        "id": "ayjqn2LLoFon",
        "outputId": "e044eaf7-282b-4beb-b10c-0b75ee57f36d"
      },
      "execution_count": null,
      "outputs": [
        {
          "output_type": "stream",
          "name": "stdout",
          "text": [
            "Alaa is my name and I am 55years old\n"
          ]
        }
      ]
    },
    {
      "cell_type": "code",
      "source": [
        "is_hot = False\n",
        "is_cold = False\n",
        "\n",
        "if is_hot:\n",
        "  print(\"It is hot day\")\n",
        "  print(\"Drink plenty of water\")\n",
        "elif is_cold:\n",
        "  print(\"It is a clod day\")\n",
        "  print(\"Wear worm clothes\")\n",
        "else:\n",
        "  print(\"It is a lovely day\")\n",
        "\n",
        "print(\"Enjoy your day\")"
      ],
      "metadata": {
        "colab": {
          "base_uri": "https://localhost:8080/"
        },
        "id": "9GKn_j1OU473",
        "outputId": "f42d5df0-fd81-4584-f7c6-ac98f0fd9d72"
      },
      "execution_count": null,
      "outputs": [
        {
          "output_type": "stream",
          "name": "stdout",
          "text": [
            "It is a lobely day\n",
            "Enjoy your day\n"
          ]
        }
      ]
    },
    {
      "cell_type": "code",
      "source": [
        "price = 1000000\n",
        "buyer_credit = True\n",
        "\n",
        "if buyer_credit:\n",
        "  Down_Payment = 0.1*price\n",
        "else:\n",
        "  Down_Payment = 0.2*price\n",
        "\n",
        "print(f\" The down payment is  ${Down_Payment}\")\n"
      ],
      "metadata": {
        "colab": {
          "base_uri": "https://localhost:8080/"
        },
        "id": "h1u-CQmYV-mh",
        "outputId": "df4ad5e1-8fef-4fd0-824e-f93d3abaface"
      },
      "execution_count": null,
      "outputs": [
        {
          "output_type": "stream",
          "name": "stdout",
          "text": [
            " The down payment is  $100000.0\n"
          ]
        }
      ]
    },
    {
      "cell_type": "code",
      "source": [
        "temperature = int(input(\"Eneter the value of today's temperature\"))\n",
        "\n",
        "if temperature >= 30:\n",
        "  print(\" It is a hot day\")\n",
        "else:\n",
        "  print(\" It is not a hot day\")"
      ],
      "metadata": {
        "colab": {
          "base_uri": "https://localhost:8080/"
        },
        "id": "NaT9WyqQXhLp",
        "outputId": "74854d1c-24e6-486d-bdd7-e36830694f12"
      },
      "execution_count": null,
      "outputs": [
        {
          "output_type": "stream",
          "name": "stdout",
          "text": [
            "Eneter the value of today's temperature34\n",
            " It is a hot day\n"
          ]
        }
      ]
    },
    {
      "cell_type": "code",
      "source": [
        "name = \"Alaa\"\n",
        "\n",
        "if len(name) < 3:\n",
        "  print(\"name is too short\")\n",
        "elif len(name) >3:\n",
        "  print(\"name is correct\")\n",
        "  print(f\"My name is {name}\")\n"
      ],
      "metadata": {
        "colab": {
          "base_uri": "https://localhost:8080/"
        },
        "id": "buL6l2vGYwEU",
        "outputId": "94ec0d2e-9bdc-4681-edc2-323c1ef4f498"
      },
      "execution_count": null,
      "outputs": [
        {
          "output_type": "stream",
          "name": "stdout",
          "text": [
            "name is correct\n",
            "My name is Alaa\n"
          ]
        }
      ]
    },
    {
      "cell_type": "code",
      "source": [
        "secret_no = 9\n",
        "guess_count = 0\n",
        "guess_limit = 3\n",
        "\n",
        "while guess_count < guess_limit:\n",
        "  guess = int(input(\"Enter Guest: \" ))\n",
        "  guess_count +=1\n",
        "  if guess == secret_no:\n",
        "    print(\"You won. Guess is correct\")\n",
        "    break\n",
        "else:\n",
        "  print(\"Sorry, your trials are over\")\n"
      ],
      "metadata": {
        "id": "aCiZTukYcKk8",
        "colab": {
          "base_uri": "https://localhost:8080/"
        },
        "outputId": "00be9ea9-7274-4b67-8420-19b3f405c1d4"
      },
      "execution_count": null,
      "outputs": [
        {
          "output_type": "stream",
          "name": "stdout",
          "text": [
            "Enter Guest: 1\n",
            "Enter Guest: 2\n",
            "Enter Guest: 3\n",
            "Your trial is over\n"
          ]
        }
      ]
    },
    {
      "cell_type": "code",
      "source": [
        "prices =[10, 20, 30]\n",
        "for item in prices:\n",
        "  print(item)"
      ],
      "metadata": {
        "colab": {
          "base_uri": "https://localhost:8080/"
        },
        "id": "-pIH0blET0hd",
        "outputId": "7e6a95d4-db41-4c51-dbe0-e10871231502"
      },
      "execution_count": null,
      "outputs": [
        {
          "output_type": "stream",
          "name": "stdout",
          "text": [
            "10\n",
            "20\n",
            "30\n"
          ]
        }
      ]
    },
    {
      "cell_type": "code",
      "source": [
        "prices =[\"Alaa\",\"Ayaa\",\"Rania\"]\n",
        "for item in prices:\n",
        "  print(item)"
      ],
      "metadata": {
        "colab": {
          "base_uri": "https://localhost:8080/"
        },
        "id": "Os4agZkoX-_h",
        "outputId": "509bc7af-b610-4972-bbe3-21c7c2be3946"
      },
      "execution_count": null,
      "outputs": [
        {
          "output_type": "stream",
          "name": "stdout",
          "text": [
            "Alaa\n",
            "Ayaa\n",
            "Rania\n"
          ]
        }
      ]
    },
    {
      "cell_type": "code",
      "source": [
        "for item in range(5):\n",
        "  print(item)"
      ],
      "metadata": {
        "colab": {
          "base_uri": "https://localhost:8080/"
        },
        "id": "dkVkZVUaYGBB",
        "outputId": "d22e71e9-f56a-403c-a678-60c491d52885"
      },
      "execution_count": null,
      "outputs": [
        {
          "output_type": "stream",
          "name": "stdout",
          "text": [
            "0\n",
            "1\n",
            "2\n",
            "3\n",
            "4\n"
          ]
        }
      ]
    },
    {
      "cell_type": "code",
      "source": [
        "for item in range(5, 10):\n",
        "  print(item)"
      ],
      "metadata": {
        "colab": {
          "base_uri": "https://localhost:8080/"
        },
        "id": "Gx-okNEqYPJo",
        "outputId": "c3cea918-3bdd-404b-fe8e-706b4f7ad40f"
      },
      "execution_count": null,
      "outputs": [
        {
          "output_type": "stream",
          "name": "stdout",
          "text": [
            "5\n",
            "6\n",
            "7\n",
            "8\n",
            "9\n"
          ]
        }
      ]
    },
    {
      "cell_type": "code",
      "source": [
        "for item in range(5, 10, 2):\n",
        "  print(item)"
      ],
      "metadata": {
        "colab": {
          "base_uri": "https://localhost:8080/"
        },
        "id": "qoCCRjXzYWKf",
        "outputId": "96ec886d-c691-43fa-e6a9-a4c3da086844"
      },
      "execution_count": null,
      "outputs": [
        {
          "output_type": "stream",
          "name": "stdout",
          "text": [
            "5\n",
            "7\n",
            "9\n"
          ]
        }
      ]
    },
    {
      "cell_type": "code",
      "source": [
        "prices =[10, 20, 30]\n",
        "sum = 0\n",
        "\n",
        "for item in prices:\n",
        "  sum +=item\n",
        "\n",
        "print(f\"The sum of all produces is: {sum}\")"
      ],
      "metadata": {
        "colab": {
          "base_uri": "https://localhost:8080/"
        },
        "id": "SHye3hqQYZ80",
        "outputId": "b350460d-718e-463d-c76a-3c60edb3e937"
      },
      "execution_count": null,
      "outputs": [
        {
          "output_type": "stream",
          "name": "stdout",
          "text": [
            "The sum of all produces is: 60\n"
          ]
        }
      ]
    },
    {
      "cell_type": "code",
      "source": [
        "names =[\"Alaa\",\"Ayaa\",\"Rania\",\"Peter\",\"Tim\",\"David\"]\n",
        "print(names)\n",
        "print(names[3:])\n",
        "print(names[2:5])\n",
        "\n",
        "names[0] =\"Alan\"\n",
        "print(names)"
      ],
      "metadata": {
        "colab": {
          "base_uri": "https://localhost:8080/"
        },
        "id": "gPwJD_wnYy0p",
        "outputId": "78084188-587e-48d7-fd81-d5fad1a1328f"
      },
      "execution_count": null,
      "outputs": [
        {
          "output_type": "stream",
          "name": "stdout",
          "text": [
            "['Alaa', 'Ayaa', 'Rania', 'Peter', 'Tim', 'David']\n",
            "['Peter', 'Tim', 'David']\n",
            "['Rania', 'Peter', 'Tim']\n",
            "['Alan', 'Ayaa', 'Rania', 'Peter', 'Tim', 'David']\n"
          ]
        }
      ]
    },
    {
      "cell_type": "code",
      "source": [
        "# Find the max number in a list\n",
        "# Find the min number in a list\n",
        "\n",
        "numbers =[3, 6, 2, 8, 4, 10]\n",
        "max = numbers[0]\n",
        "min  = numbers[0]\n",
        "\n",
        "for item in numbers:\n",
        "  if item > max:\n",
        "    max = item\n",
        "  if item < min:\n",
        "    min = item\n",
        "\n",
        "print(f\"The maximum no is the list is: {max}\")\n",
        "print(f\"The minimum no is the list is: {min}\")"
      ],
      "metadata": {
        "colab": {
          "base_uri": "https://localhost:8080/"
        },
        "id": "-zu4IfyvZvFP",
        "outputId": "620249f1-05ce-4c35-e3e4-1e52fca7a606"
      },
      "execution_count": null,
      "outputs": [
        {
          "output_type": "stream",
          "name": "stdout",
          "text": [
            "The maximum no is the list is: 10\n",
            "The minimum no is the list is: 2\n"
          ]
        }
      ]
    },
    {
      "cell_type": "code",
      "source": [
        "# Two dimenstional list\n",
        "\n",
        "matrix = [\n",
        "    [1, 2, 3],\n",
        "    [4, 5, 6],\n",
        "    [7, 8, 9]\n",
        "]\n",
        "\n",
        "print(matrix)\n",
        "\n",
        "for rows in matrix:\n",
        "  # print(rows)\n",
        "  for item in rows:\n",
        "    print(item)"
      ],
      "metadata": {
        "colab": {
          "base_uri": "https://localhost:8080/"
        },
        "id": "gxfDSlRqeRd0",
        "outputId": "7325916a-2510-4cfb-f248-ca0f39f13086"
      },
      "execution_count": null,
      "outputs": [
        {
          "output_type": "stream",
          "name": "stdout",
          "text": [
            "[[1, 2, 3], [4, 5, 6], [7, 8, 9]]\n",
            "1\n",
            "2\n",
            "3\n",
            "4\n",
            "5\n",
            "6\n",
            "7\n",
            "8\n",
            "9\n"
          ]
        }
      ]
    },
    {
      "cell_type": "code",
      "source": [
        "#Tuples: can not be modified such as the list\n",
        "\n",
        "# Creating a tuple:\n",
        "fruits = ('apple', 'banana', 'orange')\n",
        "print(fruits[0])  # Output: 'apple'\n",
        "print(fruits[1])  # Output: 'banana'\n",
        "print(fruits[2])  # Output: 'orange'"
      ],
      "metadata": {
        "colab": {
          "base_uri": "https://localhost:8080/"
        },
        "id": "94puxvRBfLrH",
        "outputId": "dcbc6bd1-9569-470d-e950-6d5df4cd4128"
      },
      "execution_count": null,
      "outputs": [
        {
          "output_type": "stream",
          "name": "stdout",
          "text": [
            "apple\n",
            "banana\n",
            "orange\n"
          ]
        }
      ]
    },
    {
      "cell_type": "code",
      "source": [
        "# Accessing elements in a tuple:\n",
        "fruits = ('apple', 'banana', 'orange', 'grape', 'kiwi')\n",
        "print(fruits[1:4])  # Output: ('banana', 'orange', 'grape')"
      ],
      "metadata": {
        "colab": {
          "base_uri": "https://localhost:8080/"
        },
        "id": "VO_i3ZB2g4h8",
        "outputId": "c1ba407b-dc2e-4041-bc05-75bf4b51273b"
      },
      "execution_count": null,
      "outputs": [
        {
          "output_type": "stream",
          "name": "stdout",
          "text": [
            "('banana', 'orange', 'grape')\n"
          ]
        }
      ]
    },
    {
      "cell_type": "code",
      "source": [
        "# Looping through a tuple:\n",
        "fruits = ('apple', 'banana', 'orange')\n",
        "for fruit in fruits:\n",
        "    print(fruit)"
      ],
      "metadata": {
        "colab": {
          "base_uri": "https://localhost:8080/"
        },
        "id": "LMe-6x2ihBPN",
        "outputId": "827eaa99-0a1d-4515-9c7d-c6d5eded9719"
      },
      "execution_count": null,
      "outputs": [
        {
          "output_type": "stream",
          "name": "stdout",
          "text": [
            "apple\n",
            "banana\n",
            "orange\n"
          ]
        }
      ]
    },
    {
      "cell_type": "code",
      "source": [
        "# Checking if an element exists in a tuple:\n",
        "fruits = ('apple', 'banana', 'orange')\n",
        "print('banana' in fruits)  # Output: True\n",
        "print('grape' in fruits)   # Output: False"
      ],
      "metadata": {
        "colab": {
          "base_uri": "https://localhost:8080/"
        },
        "id": "N5wfnl-6hLAu",
        "outputId": "a8e8c7f0-8c3a-4d7c-9785-073db21ebfdb"
      },
      "execution_count": null,
      "outputs": [
        {
          "output_type": "stream",
          "name": "stdout",
          "text": [
            "True\n",
            "False\n"
          ]
        }
      ]
    },
    {
      "cell_type": "code",
      "source": [
        "# Concatenating tuples:\n",
        "fruits = ('apple', 'banana', 'orange')\n",
        "more_fruits = ('grape', 'kiwi')\n",
        "all_fruits = fruits + more_fruits\n",
        "print(all_fruits)"
      ],
      "metadata": {
        "colab": {
          "base_uri": "https://localhost:8080/"
        },
        "id": "ZIgaQjN7hN6q",
        "outputId": "412777bf-0cf3-4aa8-8d7c-96472ae110fd"
      },
      "execution_count": null,
      "outputs": [
        {
          "output_type": "stream",
          "name": "stdout",
          "text": [
            "('apple', 'banana', 'orange', 'grape', 'kiwi')\n"
          ]
        }
      ]
    },
    {
      "cell_type": "code",
      "source": [
        "# Unpacking a tuple into separate variables\n",
        "coordinates = (10, 20)\n",
        "x, y = coordinates\n",
        "print(x)  # Output: 10\n",
        "print(y)  # Output: 20"
      ],
      "metadata": {
        "colab": {
          "base_uri": "https://localhost:8080/"
        },
        "id": "LA-1pOEnhROM",
        "outputId": "e912bfb2-459b-4eb9-d2a3-d421c7b6ea28"
      },
      "execution_count": null,
      "outputs": [
        {
          "output_type": "stream",
          "name": "stdout",
          "text": [
            "10\n",
            "20\n"
          ]
        }
      ]
    },
    {
      "cell_type": "code",
      "source": [
        "# Counting occurrences of an element in a tuple:\n",
        "numbers = (1, 2, 3, 2, 4, 2)\n",
        "count_of_2 = numbers.count(2)\n",
        "print(count_of_2)  # Output: 3 (since '2' appears three times in the tuple)"
      ],
      "metadata": {
        "colab": {
          "base_uri": "https://localhost:8080/"
        },
        "id": "CTz3MaYFhVMb",
        "outputId": "9052147f-d412-429d-b41c-3c861a3d9bbc"
      },
      "execution_count": null,
      "outputs": [
        {
          "output_type": "stream",
          "name": "stdout",
          "text": [
            "3\n"
          ]
        }
      ]
    },
    {
      "cell_type": "markdown",
      "source": [
        "**Dictionaries in Python are collections of key-value pairs, where each key is unique and associated with a value. Dictionaries are enclosed in curly braces {}  and are very useful for organizing and retrieving data efficiently.  Here are some examples of dictionaries in Python:**"
      ],
      "metadata": {
        "id": "h09K7oTehzCN"
      }
    },
    {
      "cell_type": "code",
      "source": [
        "# Creating a dictionary of student names and their corresponding ages\n",
        "student_ages = {\n",
        "    'John': 20,\n",
        "    'Alice': 22,\n",
        "    'Bob': 19,\n",
        "    'Eve': 21\n",
        "}\n",
        "# Accessing values using keys:\n",
        "# Accessing the age of 'Alice'\n",
        "alice_age = student_ages['Alice']\n",
        "print(alice_age)  # Output: 22\n",
        "\n",
        "# Modifying dictionary values:\n",
        "# Modifying the age of 'Bob'\n",
        "student_ages['Bob'] = 20\n",
        "print(student_ages['Bob'])  # Output: 20"
      ],
      "metadata": {
        "colab": {
          "base_uri": "https://localhost:8080/"
        },
        "id": "ObYYtgHihYDb",
        "outputId": "93d0933f-7daa-4b65-ae55-18606d1b8a90"
      },
      "execution_count": null,
      "outputs": [
        {
          "output_type": "stream",
          "name": "stdout",
          "text": [
            "22\n",
            "20\n"
          ]
        }
      ]
    },
    {
      "cell_type": "code",
      "source": [],
      "metadata": {
        "id": "CTUbWqgti3AD"
      },
      "execution_count": null,
      "outputs": []
    },
    {
      "cell_type": "code",
      "source": [
        "\n",
        "# Adding a new student and their age to the dictionary\n",
        "student_ages['Mike'] = 18\n",
        "print(student_ages)\n",
        "# Output: {'John': 20, 'Alice': 22, 'Bob': 20, 'Eve': 21, 'Mike': 18}\n",
        "\n",
        "# Checking if a key exists in the dictionary:\n",
        "if 'John' in student_ages:\n",
        "    print(\"John's age is\", student_ages['John'])\n",
        "else:\n",
        "    print(\"John is not in the dictionary.\")"
      ],
      "metadata": {
        "colab": {
          "base_uri": "https://localhost:8080/"
        },
        "id": "FdOzWqbAi0uF",
        "outputId": "556d1dfa-bea9-44f8-f80a-ea9a7261e768"
      },
      "execution_count": null,
      "outputs": [
        {
          "output_type": "stream",
          "name": "stdout",
          "text": [
            "{'John': 20, 'Alice': 22, 'Bob': 20, 'Eve': 21, 'Mike': 18}\n",
            "John's age is 20\n"
          ]
        }
      ]
    },
    {
      "cell_type": "code",
      "source": [
        "# Getting the list of keys and values from a dictionary:\n",
        "# Getting a list of student names and ages separately\n",
        "names = student_ages.keys()\n",
        "ages = student_ages.values()\n",
        "\n",
        "print(names)  # Output: dict_keys(['John', 'Alice', 'Bob', 'Eve', 'Mike'])\n",
        "print(ages)   # Output: dict_values([20, 22, 20, 21, 18])"
      ],
      "metadata": {
        "colab": {
          "base_uri": "https://localhost:8080/"
        },
        "id": "kdbIZhcCitGq",
        "outputId": "12be9fea-b90c-434a-b417-e69b3da218f9"
      },
      "execution_count": null,
      "outputs": [
        {
          "output_type": "stream",
          "name": "stdout",
          "text": [
            "dict_keys(['John', 'Alice', 'Bob', 'Eve', 'Mike'])\n",
            "dict_values([20, 22, 20, 21, 18])\n"
          ]
        }
      ]
    },
    {
      "cell_type": "code",
      "source": [
        "def greet_user():\n",
        "  print(\"     Hi there\")\n",
        "  print(\"     Welcome aboard\")\n",
        "\n",
        "print(\"start\")\n",
        "greet_user()\n",
        "print(\"Finish\")\n"
      ],
      "metadata": {
        "colab": {
          "base_uri": "https://localhost:8080/"
        },
        "id": "LahZM8--jJQq",
        "outputId": "bb5fff21-f7b3-4319-9fc2-fa087cf3f103"
      },
      "execution_count": null,
      "outputs": [
        {
          "output_type": "stream",
          "name": "stdout",
          "text": [
            "start\n",
            "     Hi there\n",
            "     Welcome aboard\n",
            "Finish\n"
          ]
        }
      ]
    },
    {
      "cell_type": "code",
      "source": [
        "def greet(name):\n",
        "    \"\"\"\n",
        "    This function takes a name as input and prints a greeting message.\n",
        "    \"\"\"\n",
        "    print(f\"Hello, {name}! How are you?\")\n",
        "\n",
        "greet(\"John\")\n"
      ],
      "metadata": {
        "colab": {
          "base_uri": "https://localhost:8080/"
        },
        "id": "8ibFLyiQkB1_",
        "outputId": "94cb9b5c-c2b3-489a-c048-e461cb9836cb"
      },
      "execution_count": null,
      "outputs": [
        {
          "output_type": "stream",
          "name": "stdout",
          "text": [
            "Hello, John! How are you?\n"
          ]
        }
      ]
    },
    {
      "cell_type": "code",
      "source": [],
      "metadata": {
        "id": "SpV6PwuxnBSk"
      },
      "execution_count": null,
      "outputs": []
    }
  ]
}