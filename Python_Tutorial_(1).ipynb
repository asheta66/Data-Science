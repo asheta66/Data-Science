{
  "nbformat": 4,
  "nbformat_minor": 0,
  "metadata": {
    "colab": {
      "provenance": [],
      "authorship_tag": "ABX9TyMAzHHyUQ4saUhFIGxQp7RR",
      "include_colab_link": true
    },
    "kernelspec": {
      "name": "python3",
      "display_name": "Python 3"
    },
    "language_info": {
      "name": "python"
    }
  },
  "cells": [
    {
      "cell_type": "markdown",
      "metadata": {
        "id": "view-in-github",
        "colab_type": "text"
      },
      "source": [
        "<a href=\"https://colab.research.google.com/github/asheta66/Data-Science/blob/main/Python_Tutorial_(1).ipynb\" target=\"_parent\"><img src=\"https://colab.research.google.com/assets/colab-badge.svg\" alt=\"Open In Colab\"/></a>"
      ]
    },
    {
      "cell_type": "code",
      "execution_count": null,
      "metadata": {
        "colab": {
          "base_uri": "https://localhost:8080/"
        },
        "id": "cZcV4x8onrPy",
        "outputId": "a8b155da-55ba-4332-a0ef-220293907d22"
      },
      "outputs": [
        {
          "output_type": "stream",
          "name": "stdout",
          "text": [
            "hello Alaa\n"
          ]
        }
      ],
      "source": [
        "print(\"hello Alaa\")"
      ]
    },
    {
      "cell_type": "code",
      "source": [
        "my_name=\"Alaa\"\n",
        "print(\"Hello \" + my_name)"
      ],
      "metadata": {
        "colab": {
          "base_uri": "https://localhost:8080/"
        },
        "id": "WhyF_Mzan6al",
        "outputId": "71abd167-9a28-4445-bf94-a2720b606145"
      },
      "execution_count": null,
      "outputs": [
        {
          "output_type": "stream",
          "name": "stdout",
          "text": [
            "Hello Alaa\n"
          ]
        }
      ]
    },
    {
      "cell_type": "code",
      "source": [
        "age=55\n",
        "print(my_name +\" is my name and I am \" + str(age) +\" years old\")"
      ],
      "metadata": {
        "colab": {
          "base_uri": "https://localhost:8080/"
        },
        "id": "ayjqn2LLoFon",
        "outputId": "e044eaf7-282b-4beb-b10c-0b75ee57f36d"
      },
      "execution_count": null,
      "outputs": [
        {
          "output_type": "stream",
          "name": "stdout",
          "text": [
            "Alaa is my name and I am 55years old\n"
          ]
        }
      ]
    },
    {
      "cell_type": "code",
      "source": [
        "print(f\" The cost of service for {20} days is {20*25}\")"
      ],
      "metadata": {
        "colab": {
          "base_uri": "https://localhost:8080/"
        },
        "id": "s_2bqfB4qwUL",
        "outputId": "c50d5a4b-fdf2-419d-9c54-f8975eb98fbd"
      },
      "execution_count": null,
      "outputs": [
        {
          "output_type": "stream",
          "name": "stdout",
          "text": [
            " The cost of service for 20 days is 500\n"
          ]
        }
      ]
    },
    {
      "cell_type": "code",
      "source": [
        "unit = \"$\"\n",
        "print(f\" The cost of service for {20} days is {unit}{20*25}\")"
      ],
      "metadata": {
        "colab": {
          "base_uri": "https://localhost:8080/"
        },
        "id": "vrJImtnAsoXU",
        "outputId": "fb52e09a-f66a-49e9-a50c-ede0f6e7661c"
      },
      "execution_count": null,
      "outputs": [
        {
          "output_type": "stream",
          "name": "stdout",
          "text": [
            " The cost of service for 20 days is $500\n"
          ]
        }
      ]
    },
    {
      "cell_type": "code",
      "source": [
        "# functions without parameters\n",
        "\n",
        "calculate_units = 24\n",
        "name_units = \"hours\"\n",
        "\n",
        "def days_to_units():\n",
        "  print(f\" The cost of service for {20} days is {unit}{20*25}\")\n",
        "\n",
        "days_to_units()"
      ],
      "metadata": {
        "colab": {
          "base_uri": "https://localhost:8080/"
        },
        "id": "Gd2OT4JZtat-",
        "outputId": "cf0da698-7851-428b-b189-3aae6cbfcdf7"
      },
      "execution_count": null,
      "outputs": [
        {
          "output_type": "stream",
          "name": "stdout",
          "text": [
            " The cost of service for 20 days is $500\n"
          ]
        }
      ]
    },
    {
      "cell_type": "code",
      "source": [
        "# functions with parameters\n",
        "\n",
        "calculate_units = 24\n",
        "name_units = \"$\"\n",
        "\n",
        "def days_to_units(days):\n",
        "  print(f\" The cost of service for {days} days is {unit}{days*calculate_units}\")\n",
        "\n",
        "days_to_units(35)\n",
        "days_to_units(45)\n",
        "days_to_units(55)\n",
        "days_to_units(65)\n",
        "\n",
        "print(\"All is good\")"
      ],
      "metadata": {
        "colab": {
          "base_uri": "https://localhost:8080/"
        },
        "id": "YWEyofd6vOXc",
        "outputId": "356e3679-3dec-4c0c-a20e-46583889d755"
      },
      "execution_count": null,
      "outputs": [
        {
          "output_type": "stream",
          "name": "stdout",
          "text": [
            " The cost of service for 35 days is $840\n",
            " The cost of service for 45 days is $1080\n",
            " The cost of service for 55 days is $1320\n",
            " The cost of service for 65 days is $1560\n",
            "All is good\n"
          ]
        }
      ]
    },
    {
      "cell_type": "code",
      "source": [
        "calculate_units = 24\n",
        "unit = \"$\"\n",
        "\n",
        "def days_to_units(days, custom_message):\n",
        "    print(f\"The cost of service for {days} days is {unit}{days * calculate_units}\")\n",
        "    print(custom_message)\n",
        "\n",
        "days_to_units(35, \"Great\\n\")\n",
        "days_to_units(45, \"Fantastic\\n\")\n",
        "print(\"All is good\")\n"
      ],
      "metadata": {
        "colab": {
          "base_uri": "https://localhost:8080/"
        },
        "id": "Y-iZSRT1wtgN",
        "outputId": "e6fd5a73-3b3e-4481-8283-731cd8e8b630"
      },
      "execution_count": null,
      "outputs": [
        {
          "output_type": "stream",
          "name": "stdout",
          "text": [
            "The cost of service for 35 days is $840\n",
            "Great\n",
            "\n",
            "The cost of service for 45 days is $1080\n",
            "Fantastic\n",
            "\n",
            "All is good\n"
          ]
        }
      ]
    },
    {
      "cell_type": "code",
      "source": [
        "calculate_units = 24\n",
        "unit = \"$\"\n",
        "\n",
        "def days_to_units(days, custom_message):\n",
        "    print(f\"The cost of service for {days} days is {unit}{days * calculate_units}\")\n",
        "    print(custom_message)\n",
        "\n",
        "def scope_check(num_of_days):\n",
        "    my_var = 10\n",
        "    print(f\"{unit}{my_var} per {num_of_days} days\")\n",
        "\n",
        "days_to_units(35, \"Great\\n\")\n",
        "days_to_units(45, \"Fantastic\\n\")\n",
        "print(\"All is good\")\n",
        "\n",
        "scope_check(calculate_units)\n"
      ],
      "metadata": {
        "colab": {
          "base_uri": "https://localhost:8080/"
        },
        "id": "ffjSNtX-wPAI",
        "outputId": "c27c3a94-9dde-4ede-cb37-e3781a8efd42"
      },
      "execution_count": null,
      "outputs": [
        {
          "output_type": "stream",
          "name": "stdout",
          "text": [
            "The cost of service for 35 days is $840\n",
            "Great\n",
            "\n",
            "The cost of service for 45 days is $1080\n",
            "Fantastic\n",
            "\n",
            "All is good\n",
            "$10 per 24 days\n"
          ]
        }
      ]
    },
    {
      "cell_type": "code",
      "source": [
        "# The use of input function to assign an input value for a variable\n",
        "unit =\"$\"\n",
        "x = input(\"Enter the cost for car?\\n\")\n",
        "print(f\"The car price is {unit}{x}\")"
      ],
      "metadata": {
        "colab": {
          "base_uri": "https://localhost:8080/"
        },
        "id": "IOJfU3Mi0jre",
        "outputId": "dcba3de5-5423-4284-fb65-298687ab6432"
      },
      "execution_count": null,
      "outputs": [
        {
          "output_type": "stream",
          "name": "stdout",
          "text": [
            "Enter the cost for car?\n",
            "200,000\n",
            "The car price is $200,000\n"
          ]
        }
      ]
    },
    {
      "cell_type": "code",
      "source": [
        "calculate_units = 24\n",
        "unit = \"$\"\n",
        "days = 30\n",
        "\n",
        "def days_to_units(days,):\n",
        "    return f\"The cost of service for {days} days is {unit}{days * calculate_units}\"\n",
        "\n",
        "my_var = days_to_units(35)\n",
        "print(my_var)"
      ],
      "metadata": {
        "colab": {
          "base_uri": "https://localhost:8080/"
        },
        "id": "HaldpIgY8IO4",
        "outputId": "0ebbf4b4-16c7-4862-e0e0-2dc58a55f2ec"
      },
      "execution_count": null,
      "outputs": [
        {
          "output_type": "stream",
          "name": "stdout",
          "text": [
            "The cost of service for 35 days is $840\n"
          ]
        }
      ]
    },
    {
      "cell_type": "code",
      "source": [
        "# Verify that the user input is a valid number\n",
        "\n",
        "calculate_units = 24\n",
        "unit = \"$\"\n",
        "days = 30\n",
        "\n",
        "def days_to_units(days):\n",
        "  print(days > 0)\n",
        "  if days > 0:\n",
        "    return f\"The cost of service for {days} days is {unit}{days * calculate_units}\"\n",
        "  else:\n",
        "    print(\"The input is a negative number please correct it\")\n",
        "\n",
        "x = int(input('Enter a value:    '))\n",
        "my_var = days_to_units(x)\n",
        "print(my_var)"
      ],
      "metadata": {
        "colab": {
          "base_uri": "https://localhost:8080/"
        },
        "id": "Tb1tjx6y80tL",
        "outputId": "1cbf5779-be88-430b-d6a8-119a9c70f06f"
      },
      "execution_count": null,
      "outputs": [
        {
          "output_type": "stream",
          "name": "stdout",
          "text": [
            "Enter a value:    10\n",
            "True\n",
            "The cost of service for 10 days is $240\n"
          ]
        }
      ]
    },
    {
      "cell_type": "code",
      "source": [
        "# Verify that the user input is a valid number\n",
        "\n",
        "calculate_units = 24\n",
        "unit = \"$\"\n",
        "days = 30\n",
        "\n",
        "def days_to_units(days):\n",
        "  print(days > 0)\n",
        "  if days > 0:\n",
        "    return f\"The cost of service for {days} days is {unit}{days * calculate_units}\"\n",
        "  else:\n",
        "    print(\"The input is a negative number please correct it\")\n",
        "\n",
        "x = int(input('Enter a value:    '))\n",
        "my_var = days_to_units(x)\n",
        "print(my_var)"
      ],
      "metadata": {
        "colab": {
          "base_uri": "https://localhost:8080/"
        },
        "id": "reeyo-cc_vUY",
        "outputId": "63e02f09-1f4e-4f25-b6c5-af424e14328c"
      },
      "execution_count": null,
      "outputs": [
        {
          "output_type": "stream",
          "name": "stdout",
          "text": [
            "Enter a value:    -10\n",
            "False\n",
            "The input is a negative number please correct it\n",
            "None\n"
          ]
        }
      ]
    },
    {
      "cell_type": "code",
      "source": [
        "# Test the nature of the input if positive, negative or zero\n",
        "\n",
        "calculate_units = 24\n",
        "unit = \"$\"\n",
        "days = 30\n",
        "\n",
        "def days_to_units(days):\n",
        "    if days > 0:\n",
        "        return f\"The cost of service for {days} days is {unit}{days * calculate_units}\"\n",
        "    elif days == 0:\n",
        "        return \"The input is a 0\"\n",
        "    else:\n",
        "        return \"The input is a negative number. Please correct it.\"\n",
        "\n",
        "x = int(input('Enter a value: '))\n",
        "my_var = days_to_units(x)\n",
        "print(my_var)\n"
      ],
      "metadata": {
        "colab": {
          "base_uri": "https://localhost:8080/"
        },
        "id": "DUz5OhLyAg-u",
        "outputId": "2506ad10-29cf-481c-b4dd-c3b00c152c36"
      },
      "execution_count": null,
      "outputs": [
        {
          "output_type": "stream",
          "name": "stdout",
          "text": [
            "Enter a value: 0\n",
            "The input is a 0\n"
          ]
        }
      ]
    },
    {
      "cell_type": "code",
      "source": [
        "calculate_units = 24\n",
        "unit = \"$\"\n",
        "days = 30\n",
        "\n",
        "def days_to_units(days):\n",
        "    if days > 0:\n",
        "        return f\"The cost of service for {days} days is {unit}{days * calculate_units}\"\n",
        "    elif days == 0:\n",
        "        return \"The input is 0\"\n",
        "    else:\n",
        "        return \"The input is a negative number. Please correct it.\"\n",
        "\n",
        "while True:\n",
        "    x = input('Enter a value (type \"exit\" to quit): ')\n",
        "    if x.lower() == 'exit':\n",
        "        break\n",
        "    try:\n",
        "        x = int(x)\n",
        "        my_var = days_to_units(x)\n",
        "        print(my_var +\"\\n\")\n",
        "    except ValueError:\n",
        "        print(\"Invalid input. Please enter a valid number or 'exit' to quit.\")\n"
      ],
      "metadata": {
        "colab": {
          "base_uri": "https://localhost:8080/"
        },
        "id": "M1sM0EnSCGHa",
        "outputId": "716b4946-aabc-45a4-eca0-8cd5764280e9"
      },
      "execution_count": null,
      "outputs": [
        {
          "name": "stdout",
          "output_type": "stream",
          "text": [
            "Enter a value (type \"exit\" to quit): 10\n",
            "The cost of service for 10 days is $240\n",
            "\n",
            "Enter a value (type \"exit\" to quit): 20\n",
            "The cost of service for 20 days is $480\n",
            "\n",
            "Enter a value (type \"exit\" to quit): -10\n",
            "The input is a negative number. Please correct it.\n",
            "\n",
            "Enter a value (type \"exit\" to quit): exit\n"
          ]
        }
      ]
    },
    {
      "cell_type": "code",
      "source": [],
      "metadata": {
        "id": "8BFvSsGtFeC0"
      },
      "execution_count": null,
      "outputs": []
    }
  ]
}